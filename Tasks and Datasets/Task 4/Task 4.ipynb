{
 "cells": [
  {
   "cell_type": "code",
   "execution_count": 2,
   "id": "632d5c94-7295-49bc-8671-da0bdd41a94e",
   "metadata": {},
   "outputs": [
    {
     "name": "stdout",
     "output_type": "stream",
     "text": [
      "[1] \"Hello, R in JupyterLab!\"\n"
     ]
    }
   ],
   "source": [
    "print(\"Hello, R in JupyterLab!\")\n"
   ]
  },
  {
   "cell_type": "code",
   "execution_count": 4,
   "id": "95bb020f-857d-4ba8-959d-0fbea89b9541",
   "metadata": {},
   "outputs": [
    {
     "name": "stderr",
     "output_type": "stream",
     "text": [
      "Loading required package: ggplot2\n",
      "\n",
      "Loading required package: dplyr\n",
      "\n",
      "\n",
      "Attaching package: 'dplyr'\n",
      "\n",
      "\n",
      "The following objects are masked from 'package:stats':\n",
      "\n",
      "    filter, lag\n",
      "\n",
      "\n",
      "The following objects are masked from 'package:base':\n",
      "\n",
      "    intersect, setdiff, setequal, union\n",
      "\n",
      "\n"
     ]
    },
    {
     "data": {
      "text/html": [
       "<table class=\"dataframe\">\n",
       "<caption>A data.frame: 5 × 9</caption>\n",
       "<thead>\n",
       "\t<tr><th></th><th scope=col>Pregnancies</th><th scope=col>Glucose</th><th scope=col>BloodPressure</th><th scope=col>SkinThickness</th><th scope=col>Insulin</th><th scope=col>BMI</th><th scope=col>DiabetesPedigreeFunction</th><th scope=col>Age</th><th scope=col>Outcome</th></tr>\n",
       "\t<tr><th></th><th scope=col>&lt;int&gt;</th><th scope=col>&lt;int&gt;</th><th scope=col>&lt;int&gt;</th><th scope=col>&lt;int&gt;</th><th scope=col>&lt;int&gt;</th><th scope=col>&lt;dbl&gt;</th><th scope=col>&lt;dbl&gt;</th><th scope=col>&lt;int&gt;</th><th scope=col>&lt;int&gt;</th></tr>\n",
       "</thead>\n",
       "<tbody>\n",
       "\t<tr><th scope=row>1</th><td>6</td><td>148</td><td>72</td><td>35</td><td>  0</td><td>33.6</td><td>0.627</td><td>50</td><td>1</td></tr>\n",
       "\t<tr><th scope=row>2</th><td>1</td><td> 85</td><td>66</td><td>29</td><td>  0</td><td>26.6</td><td>0.351</td><td>31</td><td>0</td></tr>\n",
       "\t<tr><th scope=row>3</th><td>8</td><td>183</td><td>64</td><td> 0</td><td>  0</td><td>23.3</td><td>0.672</td><td>32</td><td>1</td></tr>\n",
       "\t<tr><th scope=row>4</th><td>1</td><td> 89</td><td>66</td><td>23</td><td> 94</td><td>28.1</td><td>0.167</td><td>21</td><td>0</td></tr>\n",
       "\t<tr><th scope=row>5</th><td>0</td><td>137</td><td>40</td><td>35</td><td>168</td><td>43.1</td><td>2.288</td><td>33</td><td>1</td></tr>\n",
       "</tbody>\n",
       "</table>\n"
      ],
      "text/latex": [
       "A data.frame: 5 × 9\n",
       "\\begin{tabular}{r|lllllllll}\n",
       "  & Pregnancies & Glucose & BloodPressure & SkinThickness & Insulin & BMI & DiabetesPedigreeFunction & Age & Outcome\\\\\n",
       "  & <int> & <int> & <int> & <int> & <int> & <dbl> & <dbl> & <int> & <int>\\\\\n",
       "\\hline\n",
       "\t1 & 6 & 148 & 72 & 35 &   0 & 33.6 & 0.627 & 50 & 1\\\\\n",
       "\t2 & 1 &  85 & 66 & 29 &   0 & 26.6 & 0.351 & 31 & 0\\\\\n",
       "\t3 & 8 & 183 & 64 &  0 &   0 & 23.3 & 0.672 & 32 & 1\\\\\n",
       "\t4 & 1 &  89 & 66 & 23 &  94 & 28.1 & 0.167 & 21 & 0\\\\\n",
       "\t5 & 0 & 137 & 40 & 35 & 168 & 43.1 & 2.288 & 33 & 1\\\\\n",
       "\\end{tabular}\n"
      ],
      "text/markdown": [
       "\n",
       "A data.frame: 5 × 9\n",
       "\n",
       "| <!--/--> | Pregnancies &lt;int&gt; | Glucose &lt;int&gt; | BloodPressure &lt;int&gt; | SkinThickness &lt;int&gt; | Insulin &lt;int&gt; | BMI &lt;dbl&gt; | DiabetesPedigreeFunction &lt;dbl&gt; | Age &lt;int&gt; | Outcome &lt;int&gt; |\n",
       "|---|---|---|---|---|---|---|---|---|---|\n",
       "| 1 | 6 | 148 | 72 | 35 |   0 | 33.6 | 0.627 | 50 | 1 |\n",
       "| 2 | 1 |  85 | 66 | 29 |   0 | 26.6 | 0.351 | 31 | 0 |\n",
       "| 3 | 8 | 183 | 64 |  0 |   0 | 23.3 | 0.672 | 32 | 1 |\n",
       "| 4 | 1 |  89 | 66 | 23 |  94 | 28.1 | 0.167 | 21 | 0 |\n",
       "| 5 | 0 | 137 | 40 | 35 | 168 | 43.1 | 2.288 | 33 | 1 |\n",
       "\n"
      ],
      "text/plain": [
       "  Pregnancies Glucose BloodPressure SkinThickness Insulin BMI \n",
       "1 6           148     72            35              0     33.6\n",
       "2 1            85     66            29              0     26.6\n",
       "3 8           183     64             0              0     23.3\n",
       "4 1            89     66            23             94     28.1\n",
       "5 0           137     40            35            168     43.1\n",
       "  DiabetesPedigreeFunction Age Outcome\n",
       "1 0.627                    50  1      \n",
       "2 0.351                    31  0      \n",
       "3 0.672                    32  1      \n",
       "4 0.167                    21  0      \n",
       "5 2.288                    33  1      "
      ]
     },
     "metadata": {},
     "output_type": "display_data"
    },
    {
     "data": {
      "text/plain": [
       "  Pregnancies        Glucose      BloodPressure    SkinThickness  \n",
       " Min.   : 0.000   Min.   :  0.0   Min.   :  0.00   Min.   : 0.00  \n",
       " 1st Qu.: 1.000   1st Qu.: 99.0   1st Qu.: 62.00   1st Qu.: 0.00  \n",
       " Median : 3.000   Median :117.0   Median : 72.00   Median :23.00  \n",
       " Mean   : 3.845   Mean   :120.9   Mean   : 69.11   Mean   :20.54  \n",
       " 3rd Qu.: 6.000   3rd Qu.:140.2   3rd Qu.: 80.00   3rd Qu.:32.00  \n",
       " Max.   :17.000   Max.   :199.0   Max.   :122.00   Max.   :99.00  \n",
       "    Insulin           BMI        DiabetesPedigreeFunction      Age       \n",
       " Min.   :  0.0   Min.   : 0.00   Min.   :0.0780           Min.   :21.00  \n",
       " 1st Qu.:  0.0   1st Qu.:27.30   1st Qu.:0.2437           1st Qu.:24.00  \n",
       " Median : 30.5   Median :32.00   Median :0.3725           Median :29.00  \n",
       " Mean   : 79.8   Mean   :31.99   Mean   :0.4719           Mean   :33.24  \n",
       " 3rd Qu.:127.2   3rd Qu.:36.60   3rd Qu.:0.6262           3rd Qu.:41.00  \n",
       " Max.   :846.0   Max.   :67.10   Max.   :2.4200           Max.   :81.00  \n",
       "    Outcome     \n",
       " Min.   :0.000  \n",
       " 1st Qu.:0.000  \n",
       " Median :0.000  \n",
       " Mean   :0.349  \n",
       " 3rd Qu.:1.000  \n",
       " Max.   :1.000  "
      ]
     },
     "metadata": {},
     "output_type": "display_data"
    },
    {
     "data": {
      "text/html": [
       "<style>\n",
       ".dl-inline {width: auto; margin:0; padding: 0}\n",
       ".dl-inline>dt, .dl-inline>dd {float: none; width: auto; display: inline-block}\n",
       ".dl-inline>dt::after {content: \":\\0020\"; padding-right: .5ex}\n",
       ".dl-inline>dt:not(:first-of-type) {padding-left: .5ex}\n",
       "</style><dl class=dl-inline><dt>Pregnancies</dt><dd>0</dd><dt>Glucose</dt><dd>0</dd><dt>BloodPressure</dt><dd>0</dd><dt>SkinThickness</dt><dd>0</dd><dt>Insulin</dt><dd>0</dd><dt>BMI</dt><dd>0</dd><dt>DiabetesPedigreeFunction</dt><dd>0</dd><dt>Age</dt><dd>0</dd><dt>Outcome</dt><dd>0</dd></dl>\n"
      ],
      "text/latex": [
       "\\begin{description*}\n",
       "\\item[Pregnancies] 0\n",
       "\\item[Glucose] 0\n",
       "\\item[BloodPressure] 0\n",
       "\\item[SkinThickness] 0\n",
       "\\item[Insulin] 0\n",
       "\\item[BMI] 0\n",
       "\\item[DiabetesPedigreeFunction] 0\n",
       "\\item[Age] 0\n",
       "\\item[Outcome] 0\n",
       "\\end{description*}\n"
      ],
      "text/markdown": [
       "Pregnancies\n",
       ":   0Glucose\n",
       ":   0BloodPressure\n",
       ":   0SkinThickness\n",
       ":   0Insulin\n",
       ":   0BMI\n",
       ":   0DiabetesPedigreeFunction\n",
       ":   0Age\n",
       ":   0Outcome\n",
       ":   0\n",
       "\n"
      ],
      "text/plain": [
       "             Pregnancies                  Glucose            BloodPressure \n",
       "                       0                        0                        0 \n",
       "           SkinThickness                  Insulin                      BMI \n",
       "                       0                        0                        0 \n",
       "DiabetesPedigreeFunction                      Age                  Outcome \n",
       "                       0                        0                        0 "
      ]
     },
     "metadata": {},
     "output_type": "display_data"
    },
    {
     "name": "stdout",
     "output_type": "stream",
     "text": [
      "[1] \"Cleaned dataset saved at: C:/Users/Student/Desktop/OEL DATASETS PFAI/Task 4/cleaned_diabetes.csv\"\n"
     ]
    },
    {
     "data": {
      "image/png": "[encoded data removed]",
      "text/plain": [
       "plot without title"
      ]
     },
     "metadata": {
      "image/png": {
       "height": 420,
       "width": 420
      }
     },
     "output_type": "display_data"
    },
    {
     "data": {
      "image/png": "[encoded data removed]",
      "text/plain": [
       "plot without title"
      ]
     },
     "metadata": {
      "image/png": {
       "height": 420,
       "width": 420
      }
     },
     "output_type": "display_data"
    },
    {
     "name": "stdout",
     "output_type": "stream",
     "text": [
      "[1] \"Task 4 Completed Successfully!\"\n"
     ]
    },
    {
     "data": {
      "image/png": "[encoded data removed]",
      "text/plain": [
       "plot without title"
      ]
     },
     "metadata": {
      "image/png": {
       "height": 420,
       "width": 420
      }
     },
     "output_type": "display_data"
    }
   ],
   "source": [
    "# Task 4: Diabetes Dataset Analysis\n",
    "\n",
    "# Load Required Libraries\n",
    "if (!require(ggplot2)) install.packages(\"ggplot2\")  \n",
    "if (!require(dplyr)) install.packages(\"dplyr\")    \n",
    "\n",
    "library(ggplot2)\n",
    "library(dplyr)\n",
    "\n",
    "# Load the Dataset (Ensure File Path is Correct)\n",
    "data <- read.csv(\"C:/Users/Student/Desktop/OEL DATASETS PFAI/Task 4/diabetes.csv\", stringsAsFactors = FALSE)\n",
    "\n",
    "# Display the First 5 Rows\n",
    "head(data, 5)\n",
    "\n",
    "# Get Basic Summary Statistics\n",
    "summary(data)\n",
    "\n",
    "# Identify Missing Values\n",
    "colSums(is.na(data))\n",
    "\n",
    "# Clean the Dataset (Remove NAs)\n",
    "cleaned_data <- na.omit(data)\n",
    "\n",
    "# Save Cleaned Dataset\n",
    "output_path <- \"C:/Users/Student/Desktop/OEL DATASETS PFAI/Task 4/cleaned_diabetes.csv\"\n",
    "write.csv(cleaned_data, output_path, row.names = FALSE)\n",
    "print(paste(\"Cleaned dataset saved at:\", output_path))\n",
    "\n",
    "# Basic Data Visualization\n",
    "\n",
    "# Histogram of Glucose Levels\n",
    "ggplot(cleaned_data, aes(x = Glucose)) +\n",
    "  geom_histogram(binwidth = 5, fill = \"blue\", color = \"black\", alpha = 0.7) +\n",
    "  labs(title = \"Distribution of Glucose Levels\", x = \"Glucose Level\", y = \"Count\")\n",
    "\n",
    "# Scatter Plot of Glucose vs. BMI\n",
    "ggplot(cleaned_data, aes(x = Glucose, y = BMI)) +\n",
    "  geom_point(color = \"red\", alpha = 0.6) +\n",
    "  labs(title = \"Glucose Levels vs. BMI\", x = \"Glucose Level\", y = \"BMI\")\n",
    "\n",
    "# Boxplot of Blood Pressure by Outcome (Diabetic vs. Non-Diabetic)\n",
    "if(\"Outcome\" %in% colnames(cleaned_data)) {\n",
    "  ggplot(cleaned_data, aes(x = factor(Outcome), y = BloodPressure, fill = factor(Outcome))) +\n",
    "    geom_boxplot() +\n",
    "    labs(title = \"Blood Pressure by Diabetes Outcome\", x = \"Diabetes Outcome\", y = \"Blood Pressure\") +\n",
    "    theme_minimal()\n",
    "}\n",
    "\n",
    "# Save the Last Plot\n",
    "ggsave(\"C:/Users/Student/Desktop/OEL DATASETS PFAI/Task 4/diabetes_visualization.png\", width = 8, height = 5)\n",
    "\n",
    "print(\"Task 4 Completed Successfully!\")\n"
   ]
  }
 ],
 "metadata": {
  "kernelspec": {
   "display_name": "R",
   "language": "R",
   "name": "ir"
  },
  "language_info": {
   "codemirror_mode": "r",
   "file_extension": ".r",
   "mimetype": "text/x-r-source",
   "name": "R",
   "pygments_lexer": "r",
   "version": "4.4.3"
  }
 },
 "nbformat": 4,
 "nbformat_minor": 5
}
